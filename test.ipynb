{
 "cells": [
  {
   "cell_type": "code",
   "execution_count": null,
   "id": "bc340f18",
   "metadata": {},
   "outputs": [],
   "source": []
  },
  {
   "cell_type": "code",
   "execution_count": 24,
   "id": "77ca116a",
   "metadata": {},
   "outputs": [],
   "source": [
    "import stripe"
   ]
  },
  {
   "cell_type": "code",
   "execution_count": 25,
   "id": "7846963c",
   "metadata": {},
   "outputs": [],
   "source": [
    "stripe.api_key = 'sk_test_51JUA4SJEPmh1uB4OCbpK6bhu4GHiQanPsAm69EBSaHYD5Ra9KQfKit3fJAEVYh3zwBLv0m73yw6ADlyqQKGI0axS00xYIhcij8'"
   ]
  },
  {
   "cell_type": "code",
   "execution_count": null,
   "id": "a82a93dd",
   "metadata": {},
   "outputs": [],
   "source": []
  },
  {
   "cell_type": "code",
   "execution_count": null,
   "id": "e0ded97f",
   "metadata": {},
   "outputs": [],
   "source": []
  },
  {
   "cell_type": "code",
   "execution_count": 22,
   "id": "37786106",
   "metadata": {},
   "outputs": [],
   "source": [
    "account = stripe.Account.retrieve('acct_1LMvsYR1A96WXpuG')"
   ]
  },
  {
   "cell_type": "code",
   "execution_count": 23,
   "id": "9e4ef790",
   "metadata": {},
   "outputs": [
    {
     "data": {
      "text/plain": [
       "<Account account id=acct_1LMvsYR1A96WXpuG at 0x113042130> JSON: {\n",
       "  \"business_profile\": {\n",
       "    \"mcc\": \"5691\",\n",
       "    \"name\": null,\n",
       "    \"product_description\": null,\n",
       "    \"support_address\": null,\n",
       "    \"support_email\": null,\n",
       "    \"support_phone\": null,\n",
       "    \"support_url\": null,\n",
       "    \"url\": \"http://a.com\"\n",
       "  },\n",
       "  \"business_type\": \"individual\",\n",
       "  \"capabilities\": {\n",
       "    \"card_payments\": \"active\",\n",
       "    \"transfers\": \"active\"\n",
       "  },\n",
       "  \"charges_enabled\": true,\n",
       "  \"company\": {\n",
       "    \"address\": {\n",
       "      \"city\": \"Dublin\",\n",
       "      \"country\": \"IE\",\n",
       "      \"line1\": \"address_full_match\",\n",
       "      \"line2\": null,\n",
       "      \"postal_code\": \"D15HA24\",\n",
       "      \"state\": \"Co. Dublin\"\n",
       "    },\n",
       "    \"directors_provided\": true,\n",
       "    \"executives_provided\": true,\n",
       "    \"name\": null,\n",
       "    \"owners_provided\": true,\n",
       "    \"phone\": \"+353000000\",\n",
       "    \"tax_id_provided\": false,\n",
       "    \"verification\": {\n",
       "      \"document\": {\n",
       "        \"back\": null,\n",
       "        \"details\": null,\n",
       "        \"details_code\": null,\n",
       "        \"front\": null\n",
       "      }\n",
       "    }\n",
       "  },\n",
       "  \"country\": \"IE\",\n",
       "  \"created\": 1658158143,\n",
       "  \"default_currency\": \"eur\",\n",
       "  \"details_submitted\": true,\n",
       "  \"email\": null,\n",
       "  \"external_accounts\": {\n",
       "    \"data\": [\n",
       "      {\n",
       "        \"account\": \"acct_1LMvsYR1A96WXpuG\",\n",
       "        \"account_holder_name\": \"Jenny Rosen\",\n",
       "        \"account_holder_type\": \"individual\",\n",
       "        \"account_type\": null,\n",
       "        \"available_payout_methods\": [\n",
       "          \"standard\"\n",
       "        ],\n",
       "        \"bank_name\": \"STRIPE TEST BANK\",\n",
       "        \"country\": \"IE\",\n",
       "        \"currency\": \"eur\",\n",
       "        \"default_for_currency\": true,\n",
       "        \"fingerprint\": \"ssD4GuLtuJPd6FAM\",\n",
       "        \"id\": \"ba_1LMvvdR1A96WXpuGqneOBJ3y\",\n",
       "        \"last4\": \"5678\",\n",
       "        \"metadata\": {},\n",
       "        \"object\": \"bank_account\",\n",
       "        \"routing_number\": \"110000000\",\n",
       "        \"status\": \"new\"\n",
       "      }\n",
       "    ],\n",
       "    \"has_more\": false,\n",
       "    \"object\": \"list\",\n",
       "    \"total_count\": 1,\n",
       "    \"url\": \"/v1/accounts/acct_1LMvsYR1A96WXpuG/external_accounts\"\n",
       "  },\n",
       "  \"future_requirements\": {\n",
       "    \"alternatives\": [],\n",
       "    \"current_deadline\": 1662073200,\n",
       "    \"currently_due\": [],\n",
       "    \"disabled_reason\": null,\n",
       "    \"errors\": [],\n",
       "    \"eventually_due\": [],\n",
       "    \"past_due\": [],\n",
       "    \"pending_verification\": []\n",
       "  },\n",
       "  \"id\": \"acct_1LMvsYR1A96WXpuG\",\n",
       "  \"individual\": {\n",
       "    \"account\": \"acct_1LMvsYR1A96WXpuG\",\n",
       "    \"address\": {\n",
       "      \"city\": \"Dublin\",\n",
       "      \"country\": \"IE\",\n",
       "      \"line1\": \"address_full_match\",\n",
       "      \"line2\": null,\n",
       "      \"postal_code\": \"D15HA24\",\n",
       "      \"state\": \"Co. Dublin\"\n",
       "    },\n",
       "    \"created\": 1658158155,\n",
       "    \"dob\": {\n",
       "      \"day\": 1,\n",
       "      \"month\": 1,\n",
       "      \"year\": 1901\n",
       "    },\n",
       "    \"email\": \"a@b.com\",\n",
       "    \"first_name\": \"a\",\n",
       "    \"future_requirements\": {\n",
       "      \"alternatives\": [],\n",
       "      \"currently_due\": [],\n",
       "      \"errors\": [],\n",
       "      \"eventually_due\": [],\n",
       "      \"past_due\": [],\n",
       "      \"pending_verification\": []\n",
       "    },\n",
       "    \"id\": \"person_1LMvslR1A96WXpuGqTkn54Aj\",\n",
       "    \"id_number_provided\": true,\n",
       "    \"last_name\": \"b\",\n",
       "    \"metadata\": {},\n",
       "    \"object\": \"person\",\n",
       "    \"phone\": \"+353000000\",\n",
       "    \"relationship\": {\n",
       "      \"director\": false,\n",
       "      \"executive\": false,\n",
       "      \"owner\": false,\n",
       "      \"percent_ownership\": null,\n",
       "      \"representative\": true,\n",
       "      \"title\": \"ceo\"\n",
       "    },\n",
       "    \"requirements\": {\n",
       "      \"alternatives\": [],\n",
       "      \"currently_due\": [],\n",
       "      \"errors\": [],\n",
       "      \"eventually_due\": [],\n",
       "      \"past_due\": [],\n",
       "      \"pending_verification\": []\n",
       "    },\n",
       "    \"ssn_last_4_provided\": true,\n",
       "    \"verification\": {\n",
       "      \"additional_document\": {\n",
       "        \"back\": null,\n",
       "        \"details\": null,\n",
       "        \"details_code\": null,\n",
       "        \"front\": null\n",
       "      },\n",
       "      \"details\": null,\n",
       "      \"details_code\": null,\n",
       "      \"document\": {\n",
       "        \"back\": null,\n",
       "        \"details\": null,\n",
       "        \"details_code\": null,\n",
       "        \"front\": \"file_1LMvtvR1A96WXpuG0Jj1uFdQ\"\n",
       "      },\n",
       "      \"status\": \"verified\"\n",
       "    }\n",
       "  },\n",
       "  \"metadata\": {},\n",
       "  \"object\": \"account\",\n",
       "  \"payouts_enabled\": true,\n",
       "  \"requirements\": {\n",
       "    \"alternatives\": [],\n",
       "    \"current_deadline\": null,\n",
       "    \"currently_due\": [],\n",
       "    \"disabled_reason\": null,\n",
       "    \"errors\": [],\n",
       "    \"eventually_due\": [],\n",
       "    \"past_due\": [],\n",
       "    \"pending_verification\": []\n",
       "  },\n",
       "  \"settings\": {\n",
       "    \"bacs_debit_payments\": {},\n",
       "    \"branding\": {\n",
       "      \"icon\": null,\n",
       "      \"logo\": null,\n",
       "      \"primary_color\": null,\n",
       "      \"secondary_color\": null\n",
       "    },\n",
       "    \"card_issuing\": {\n",
       "      \"tos_acceptance\": {\n",
       "        \"date\": null,\n",
       "        \"ip\": null\n",
       "      }\n",
       "    },\n",
       "    \"card_payments\": {\n",
       "      \"decline_on\": {\n",
       "        \"avs_failure\": false,\n",
       "        \"cvc_failure\": false\n",
       "      },\n",
       "      \"statement_descriptor_prefix\": null,\n",
       "      \"statement_descriptor_prefix_kana\": null,\n",
       "      \"statement_descriptor_prefix_kanji\": null\n",
       "    },\n",
       "    \"dashboard\": {\n",
       "      \"display_name\": \"A\",\n",
       "      \"timezone\": \"Etc/UTC\"\n",
       "    },\n",
       "    \"payments\": {\n",
       "      \"statement_descriptor\": \"A.COM\",\n",
       "      \"statement_descriptor_kana\": null,\n",
       "      \"statement_descriptor_kanji\": null\n",
       "    },\n",
       "    \"payouts\": {\n",
       "      \"debit_negative_balances\": false,\n",
       "      \"schedule\": {\n",
       "        \"delay_days\": 7,\n",
       "        \"interval\": \"daily\"\n",
       "      },\n",
       "      \"statement_descriptor\": null\n",
       "    },\n",
       "    \"sepa_debit_payments\": {}\n",
       "  },\n",
       "  \"tos_acceptance\": {\n",
       "    \"date\": 1658158142,\n",
       "    \"ip\": \"127.0.0.1\",\n",
       "    \"user_agent\": null\n",
       "  },\n",
       "  \"type\": \"custom\"\n",
       "}"
      ]
     },
     "execution_count": 23,
     "metadata": {},
     "output_type": "execute_result"
    }
   ],
   "source": [
    "account"
   ]
  },
  {
   "cell_type": "code",
   "execution_count": null,
   "id": "86f4040b",
   "metadata": {},
   "outputs": [],
   "source": []
  },
  {
   "cell_type": "code",
   "execution_count": 15,
   "id": "c9e6f9e0",
   "metadata": {},
   "outputs": [
    {
     "name": "stdout",
     "output_type": "stream",
     "text": [
      "True\n"
     ]
    }
   ],
   "source": [
    "for bank_account in account.external_accounts:\n",
    "    print(bank_account.default_for_currency)"
   ]
  },
  {
   "cell_type": "code",
   "execution_count": 17,
   "id": "af9f65a5",
   "metadata": {},
   "outputs": [
    {
     "data": {
      "text/plain": [
       "<BankAccount bank_account id=ba_1LfhXER2SmBycCukOsHanka5 at 0x112ddb040> JSON: {\n",
       "  \"account\": \"acct_1LfhTyR2SmBycCuk\",\n",
       "  \"account_holder_name\": \"Jenny Rosen\",\n",
       "  \"account_holder_type\": \"individual\",\n",
       "  \"account_type\": null,\n",
       "  \"available_payout_methods\": [\n",
       "    \"standard\"\n",
       "  ],\n",
       "  \"bank_name\": \"STRIPE TEST BANK\",\n",
       "  \"country\": \"GB\",\n",
       "  \"currency\": \"eur\",\n",
       "  \"default_for_currency\": true,\n",
       "  \"fingerprint\": \"XPg4Y1H0b2OzCVoh\",\n",
       "  \"id\": \"ba_1LfhXER2SmBycCukOsHanka5\",\n",
       "  \"last4\": \"5432\",\n",
       "  \"metadata\": {},\n",
       "  \"object\": \"bank_account\",\n",
       "  \"routing_number\": \"108800\",\n",
       "  \"status\": \"new\"\n",
       "}"
      ]
     },
     "execution_count": 17,
     "metadata": {},
     "output_type": "execute_result"
    }
   ],
   "source": [
    "stripe.Account.retrieve_external_account(\n",
    "  \"acct_1LfhTyR2SmBycCuk\",\n",
    "  \"ba_1LfhXER2SmBycCukOsHanka5\",\n",
    ")"
   ]
  },
  {
   "cell_type": "code",
   "execution_count": 33,
   "id": "aae1e487",
   "metadata": {},
   "outputs": [],
   "source": [
    "def get_accounts():\n",
    "    accounts=[]\n",
    "#     retrieved_accounts=stripe.Account.list(limit=100)\n",
    "#     has_more=retrieved_accounts.has_more\n",
    "    has_more=True\n",
    "    last_elem=None\n",
    "    while has_more:\n",
    "        if last_elem is not None:\n",
    "            retrieved_accounts=stripe.Account.list(limit=100, starting_after=last_elem.id)\n",
    "        else:\n",
    "            retrieved_accounts=stripe.Account.list(limit=100)\n",
    "        for account in retrieved_accounts:\n",
    "            if account.payouts_enabled and account.type=='custom':\n",
    "                accounts.append(account.id)\n",
    "        last_elem = retrieved_accounts.data[-1]\n",
    "        has_more=retrieved_accounts.has_more\n",
    "    return accounts "
   ]
  },
  {
   "cell_type": "code",
   "execution_count": 34,
   "id": "0d21fe8c",
   "metadata": {},
   "outputs": [
    {
     "data": {
      "text/plain": [
       "['acct_1LhELxR30p678kr4',\n",
       " 'acct_1LhE9NR1oWxpiyp7',\n",
       " 'acct_1LhDxrR4lykBuKip',\n",
       " 'acct_1LgveJR2isJBsHzM',\n",
       " 'acct_1LfhTyR2SmBycCuk',\n",
       " 'acct_1LMvsYR1A96WXpuG',\n",
       " 'acct_1LMviPQtJvRLpCIs',\n",
       " 'acct_1JUwvaQqC5POtoty',\n",
       " 'acct_1JUAl4R6byXlsju3']"
      ]
     },
     "execution_count": 34,
     "metadata": {},
     "output_type": "execute_result"
    }
   ],
   "source": [
    "get_accounts()"
   ]
  },
  {
   "cell_type": "code",
   "execution_count": 29,
   "id": "d05756cb",
   "metadata": {},
   "outputs": [],
   "source": [
    "def get_accounts1():\n",
    "    accounts=[]\n",
    "    for account in stripe.Account.list(limit=3).auto_paging_iter():\n",
    "        if account.payouts_enabled and account.type=='custom':\n",
    "            accounts.append(account.id)\n",
    "    return accounts"
   ]
  },
  {
   "cell_type": "code",
   "execution_count": 30,
   "id": "b81a396c",
   "metadata": {},
   "outputs": [
    {
     "data": {
      "text/plain": [
       "['acct_1LhELxR30p678kr4',\n",
       " 'acct_1LhE9NR1oWxpiyp7',\n",
       " 'acct_1LhDxrR4lykBuKip',\n",
       " 'acct_1LgveJR2isJBsHzM',\n",
       " 'acct_1LfhTyR2SmBycCuk',\n",
       " 'acct_1LMvsYR1A96WXpuG',\n",
       " 'acct_1LMviPQtJvRLpCIs',\n",
       " 'acct_1JUwvaQqC5POtoty',\n",
       " 'acct_1JUAl4R6byXlsju3']"
      ]
     },
     "execution_count": 30,
     "metadata": {},
     "output_type": "execute_result"
    }
   ],
   "source": [
    "get_accounts1()"
   ]
  },
  {
   "cell_type": "code",
   "execution_count": null,
   "id": "186c2a54",
   "metadata": {},
   "outputs": [],
   "source": []
  }
 ],
 "metadata": {
  "kernelspec": {
   "display_name": "Python 3 (ipykernel)",
   "language": "python",
   "name": "python3"
  },
  "language_info": {
   "codemirror_mode": {
    "name": "ipython",
    "version": 3
   },
   "file_extension": ".py",
   "mimetype": "text/x-python",
   "name": "python",
   "nbconvert_exporter": "python",
   "pygments_lexer": "ipython3",
   "version": "3.9.11"
  },
  "varInspector": {
   "cols": {
    "lenName": 16,
    "lenType": 16,
    "lenVar": 40
   },
   "kernels_config": {
    "python": {
     "delete_cmd_postfix": "",
     "delete_cmd_prefix": "del ",
     "library": "var_list.py",
     "varRefreshCmd": "print(var_dic_list())"
    },
    "r": {
     "delete_cmd_postfix": ") ",
     "delete_cmd_prefix": "rm(",
     "library": "var_list.r",
     "varRefreshCmd": "cat(var_dic_list()) "
    }
   },
   "types_to_exclude": [
    "module",
    "function",
    "builtin_function_or_method",
    "instance",
    "_Feature"
   ],
   "window_display": false
  }
 },
 "nbformat": 4,
 "nbformat_minor": 5
}
